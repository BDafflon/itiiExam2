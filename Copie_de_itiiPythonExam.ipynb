{
  "nbformat": 4,
  "nbformat_minor": 0,
  "metadata": {
    "kernelspec": {
      "display_name": "Python 3",
      "language": "python",
      "name": "python3"
    },
    "language_info": {
      "codemirror_mode": {
        "name": "ipython",
        "version": 3
      },
      "file_extension": ".py",
      "mimetype": "text/x-python",
      "name": "python",
      "nbconvert_exporter": "python",
      "pygments_lexer": "ipython3",
      "version": "3.8.3"
    },
    "colab": {
      "name": "Copie de itiiPythonExam.ipynb",
      "provenance": [],
      "collapsed_sections": []
    }
  },
  "cells": [
    {
      "cell_type": "markdown",
      "metadata": {
        "id": "SxnKvX0ci4aL"
      },
      "source": [
        "# Devoir Python\n",
        "\n",
        "Vous devez rendre votre devoir sur GitHub.\n",
        "Vous avez le droit a tout vos documents et a internet\n",
        "\n",
        "\n"
      ]
    },
    {
      "cell_type": "markdown",
      "metadata": {
        "id": "jk2oA62ui4aW"
      },
      "source": [
        "Ex 1: Pavage\n",
        "\n",
        "\n",
        "Les tuiles du pavage sont toutes hexagonales; elles doivent être disposés dans une grille hexagonale avec un motif de couleur très spécifique.  \n",
        "\n",
        "Les carreaux sont tous blancs d'un côté et noirs de l'autre. Ils commencent avec le côté blanc vers le haut. Le sol est assez grand pour s'adapter à n'importe quel motif qui pourrait y figurer.\n",
        "\n",
        "Un membre de l'équipe de rénovation vous donne une liste des tuiles qui doivent être retournées (le fichier data1.txt). Chaque ligne de la liste identifie une seule tuile qui doit être retournée en donnant une série d'étapes à partir d'une tuile de référence au centre même de la pièce. (Chaque ligne commence à partir de la même vignette de référence.)\n",
        "\n",
        "Comme les tuiles sont hexagonales, chaque tuile a six voisins: est, sud-est, sud-ouest, ouest, nord-ouest et nord-est. Ces directions sont données dans votre liste, respectivement, comme e, se, sw, w, nw et ne. Une tuile est identifiée par une série de ces directions sans délimiteurs; par exemple, \"esenee\" identifie la tuile sur laquelle vous atterrissez si vous commencez à la tuile de référence, puis déplacez une tuile vers l'est, une tuile vers le sud-est, une tuile vers le nord-est et une tuile vers l'est.\n",
        "\n",
        "Chaque fois qu'une tuile est identifiée, elle passe du blanc au noir ou du noir au blanc. Les tuiles peuvent être retournées plus d'une fois. Par exemple, une ligne comme \"esew\" retourne une tuile immédiatement adjacente à la tuile de référence, et une ligne comme nwwswee retourne la tuile de référence elle-même. \n",
        "\n",
        "Parcourez la liste présente dans le fichier et déterminez les tuiles à retourner. Une fois que toutes les instructions ont été suivies, combien de tuiles reste-t-il avec le côté noir vers le haut? \n",
        "\n"
      ]
    },
    {
      "cell_type": "markdown",
      "metadata": {
        "id": "RarCa3RGi4aa"
      },
      "source": [
        "Ex2 :Combinatoire et chargeur de téléphone.\n",
        "\n",
        "Partie 1 :\n",
        "Lors d'un voyage en avion, votre téléphone n'a plus de batterie. Vous devrez le brancher. Il n'y a qu'un seul problème: la prise de charge près de votre siège produit le mauvais nombre de volt. Vous dressez une liste de tous les adaptateurs de tension dans votre sac.\n",
        "\n",
        "Chacun de vos adaptateurs de tension est évalué pour une tension de sortie spécifique (fichier data2.txt). Tout adaptateur donné peut prendre une entrée de 1, 2 ou 3 volt inférieures à sa valeur nominale tout en produisant sa tension de sortie nominale.\n",
        "\n",
        "De plus, votre appareil dispose d'un adaptateur de tension intégré évalué à 3 volt de plus que l'adaptateur le mieux noté dans votre sac. (Si votre liste d'adaptateurs était 3, 9 et 6, l'adaptateur intégré de votre appareil serait évalué pour 12 volt.)\n",
        "\n",
        "Traitez la prise de charge près de votre siège comme ayant une cote de tension effective de 0.\n",
        "\n",
        "Puisque vous avez un peu de temps à tuer, autant tester tous vos adaptateurs. \n",
        "\n",
        "Si vous utilisez tous les adaptateurs de votre sac à la fois, quelle est la répartition des différences de tension entre la prise de charge, les adaptateurs et votre appareil?\n",
        "\n",
        "Par exemple, supposons que dans votre sac, vous avez des adaptateurs avec les cotes de tension suivantes: \n",
        "\n",
        "16\n",
        "\n",
        "10\n",
        "\n",
        "15\n",
        "\n",
        "5\n",
        "\n",
        "1\n",
        "\n",
        "11\n",
        "\n",
        "7\n",
        "\n",
        "19\n",
        "\n",
        "6\n",
        "\n",
        "12\n",
        "\n",
        "4\n",
        "\n",
        "Avec ces adaptateurs, l'adaptateur de tension intégré de votre appareil serait évalué pour 19 + 3 = 22 volt, 3 de plus que l'adaptateur le mieux noté.\n",
        "\n",
        "Étant donné que les adaptateurs ne peuvent se connecter qu'à une source de 1 à 3 volt inférieures à sa valeur nominale, pour utiliser chaque adaptateur, vous devez les choisir comme suit:\n",
        "\n",
        "* La prise de charge a une cote effective de 0 volt, de sorte que les seuls adaptateurs qui pourraient s'y connecter directement devraient avoir une cote de tension de 1, 2 ou 3 volt. Parmi ceux-ci, un seul que vous avez est un adaptateur évalué à 1 volt(différence de 1).\n",
        "* À partir de votre adaptateur évalué à 1 secousse, le seul choix est votre adaptateur évalué à 4 volt (différence de 3).\n",
        "* À partir de l'adaptateur évalué à 4 volt, les adaptateurs classés 5, 6 ou 7 sont des choix valides. Cependant, pour ne sauter aucun adaptateur, vous devez choisir l'adaptateur évalué à 5 volt (différence de 1).\n",
        "* De même, les choix suivants devraient être l'adaptateur classé 6, puis l'adaptateur noté 7 (avec une différence de 1 et 1).\n",
        "* Le seul adaptateur qui fonctionne avec l'adaptateur évalué à 7 secousses est celui évalué à 10 volt (différence de 3).\n",
        "* À partir de 10, les choix sont 11 ou 12; choisissez 11 (différence de 1) puis 12 (différence de 1).\n",
        "* Après 12, seul l'adaptateur valide a une cote de 15 (différence de 3), puis 16 (différence de 1), puis 19 (différence de 3).\n",
        "* Enfin, l'adaptateur intégré de votre appareil est toujours 3 plus élevé que l'adaptateur le plus élevé, donc sa cote est de 22 volt (toujours une différence de 3).\n",
        "\n",
        "Dans cet exemple, lors de l'utilisation de chaque adaptateur, il y a 7 différences de 1 volt et 5 différences de 3 volt. \n",
        "\n",
        "\n",
        "Trouvez une chaîne qui utilise tous vos adaptateurs pour connecter la prise de charge à l'adaptateur intégré de votre appareil et comptez les différences de tension entre la prise de charge, les adaptateurs et votre appareil.\n",
        "\n",
        "Partie 2:\n",
        "Pour déterminer complètement si vous disposez de suffisamment d'adaptateurs, vous devrez déterminer le nombre de manières différentes de les organiser. Chaque arrangement doit connecter la prise de charge à votre appareil. Les règles précédentes concernant le moment où les adaptateurs peuvent se connecter avec succès s'appliquent toujours.\n",
        "\n",
        "Le premier exemple ci-dessus (celui qui commence par 16, 10, 15) prend en charge les arrangements suivants:\n",
        "\n",
        "(0), 1, 4, 5, 6, 7, 10, 11, 12, 15, 16, 19, (22)\n",
        "\n",
        "(0), 1, 4, 5, 6, 7, 10, 12, 15, 16, 19, (22)\n",
        "\n",
        "(0), 1, 4, 5, 7, 10, 11, 12, 15, 16, 19, (22)\n",
        "\n",
        "(0), 1, 4, 5, 7, 10, 12, 15, 16, 19, (22)\n",
        "\n",
        "(0), 1, 4, 6, 7, 10, 11, 12, 15, 16, 19, (22)\n",
        "\n",
        "(0), 1, 4, 6, 7, 10, 12, 15, 16, 19, (22)\n",
        "\n",
        "(0), 1, 4, 7, 10, 11, 12, 15, 16, 19, (22)\n",
        "\n",
        "(0), 1, 4, 7, 10, 12, 15, 16, 19, (22)\n",
        "\n",
        "(La prise de charge et l'adaptateur intégré de votre appareil sont indiqués entre parenthèses.) Compte tenu des adaptateurs du premier exemple, le nombre total d'arrangements qui connectent la prise de charge à votre appareil est de 8.\n",
        "\n",
        "Vous jetez un coup d'œil à votre sac et essayez de vous rappeler pourquoi vous avez apporté autant d'adaptateurs; il doit y avoir plus d'un billion de moyens valides pour les organiser! Il doit sûrement y avoir un moyen efficace de compter les arrangements.\n",
        "\n",
        "Quel est le nombre total de façons distinctes de disposer les adaptateurs pour connecter la prise de charge à votre appareil?\n",
        "\n"
      ]
    }
  ]
}